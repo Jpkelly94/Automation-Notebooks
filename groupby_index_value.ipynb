{
 "cells": [
  {
   "cell_type": "code",
   "execution_count": 1,
   "metadata": {
    "collapsed": true
   },
   "outputs": [],
   "source": [
    "#The purpose of this workbook is to perform a simple groupby function to count the occurrences of each unique index\n",
    "#value from PBC data\n",
    "\n",
    "#The goal is to generate an output of each index value followed by the number of occurrences\n",
    "\n",
    "#Import necessary libraries\n",
    "\n",
    "import pandas as pd\n",
    "from pandas import Series, DataFrame"
   ]
  },
  {
   "cell_type": "code",
   "execution_count": 2,
   "metadata": {
    "collapsed": true
   },
   "outputs": [],
   "source": [
    "#The variable 'underlying' is your PBC data. Copy your PBC file's directory path below. This will convert it into a\n",
    "#pandas DataFrame\n",
    "\n",
    "#Use anther function if PBC is not an Excel workbook i.e. read_csv\n",
    "\n",
    "underlying = pd.read_excel(\"directory_path\", sheetname = 'sheetname')"
   ]
  },
  {
   "cell_type": "code",
   "execution_count": 3,
   "metadata": {
    "collapsed": true
   },
   "outputs": [],
   "source": [
    "#Clean data if first row is not the header. Replace '0' in new header with the row in the PBC which should be the header\n",
    "#and replace '1' with the first row of values in your DataFrame\n",
    "\n",
    "new_header = underlying.iloc[0]\n",
    "underlying = underlying[1:]\n",
    "underlying.columns = new_header"
   ]
  },
  {
   "cell_type": "code",
   "execution_count": 4,
   "metadata": {
    "collapsed": true
   },
   "outputs": [],
   "source": [
    "#Create new DataFrame to assess number of values for each unique index\n",
    "\n",
    "counting = underlying.groupby('INDEX_NAME').count()"
   ]
  },
  {
   "cell_type": "code",
   "execution_count": 5,
   "metadata": {
    "collapsed": true
   },
   "outputs": [],
   "source": [
    "#This is your final DataFrame, altered to include the single column of number of occurrences for each unique index\n",
    "#value\n",
    "\n",
    "final_df = counting['GROUPED_COLUMN']"
   ]
  },
  {
   "cell_type": "code",
   "execution_count": 6,
   "metadata": {
    "collapsed": true
   },
   "outputs": [],
   "source": [
    "#Write and save DataFrame as excel sheet\n",
    "\n",
    "writer = pd.ExcelWriter('investment_tracker.xlsx')\n",
    "final_df.to_excel(writer,'Sheet1')\n",
    "writer.save()"
   ]
  }
 ],
 "metadata": {
  "kernelspec": {
   "display_name": "Python 3",
   "language": "python",
   "name": "python3"
  },
  "language_info": {
   "codemirror_mode": {
    "name": "ipython",
    "version": 3
   },
   "file_extension": ".py",
   "mimetype": "text/x-python",
   "name": "python",
   "nbconvert_exporter": "python",
   "pygments_lexer": "ipython3",
   "version": "3.6.1"
  }
 },
 "nbformat": 4,
 "nbformat_minor": 2
}
